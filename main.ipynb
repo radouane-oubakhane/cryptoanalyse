{
 "cells": [
  {
   "cell_type": "markdown",
   "metadata": {},
   "source": [
    "# Cryptographie"
   ]
  },
  {
   "cell_type": "markdown",
   "metadata": {},
   "source": [
    "# Algorithme d'Euclide"
   ]
  },
  {
   "cell_type": "code",
   "execution_count": 10,
   "metadata": {},
   "outputs": [
    {
     "name": "stdout",
     "output_type": "stream",
     "text": [
      "Le PGCD de 4200 et 10780 est 140\n"
     ]
    }
   ],
   "source": [
    "def algorithme_euclide(a, b):\n",
    "  if b == 0:\n",
    "    return a\n",
    "  return algorithme_euclide(b, a%b)\n",
    "\n",
    "\n",
    "# Exemple \n",
    "\n",
    "a = 4200\n",
    "b = 10780\n",
    "\n",
    "print(\"Le PGCD de\", a, \"et\", b, \"est\", algorithme_euclide(a, b))"
   ]
  },
  {
   "cell_type": "markdown",
   "metadata": {},
   "source": [
    "## Algorithme d'Euclide étendu"
   ]
  },
  {
   "cell_type": "code",
   "execution_count": 6,
   "metadata": {},
   "outputs": [
    {
     "name": "stdout",
     "output_type": "stream",
     "text": [
      "Le PGCD de 4200 et 10780 est 140\n",
      "Les coefficients de Bézout sont 18 et -7\n",
      "18 * 4200 + -7 * 10780 = 140\n"
     ]
    }
   ],
   "source": [
    "def algorithme_euclide_etendu(a, b):\n",
    "  if a == 0:\n",
    "        return (b, 0, 1)\n",
    "  else:\n",
    "      pgcd, x, y = algorithme_euclide_etendu(b % a, a)\n",
    "      return (pgcd, y - (b // a) * x, x)\n",
    "\n",
    "\n",
    "# Exemple \n",
    "\n",
    "a = 4200\n",
    "b = 10780\n",
    "\n",
    "pgcd, x, y = algorithme_euclide_etendu(a, b)\n",
    "\n",
    "print(\"Le PGCD de\", a, \"et\", b, \"est\", pgcd)\n",
    "print(\"Les coefficients de Bézout sont\", x, \"et\", y)\n",
    "print(x, \"*\", a, \"+\", y, \"*\", b, \"=\", pgcd)"
   ]
  },
  {
   "cell_type": "markdown",
   "metadata": {},
   "source": [
    "## Code à répertoire"
   ]
  },
  {
   "cell_type": "code",
   "execution_count": 55,
   "metadata": {},
   "outputs": [
    {
     "name": "stdout",
     "output_type": "stream",
     "text": [
      "Message clair : rendez-vous demain midi villetaneuse\n",
      "Message chiffre: 175 oiseaux a_vendre au_marche\n"
     ]
    }
   ],
   "source": [
    "codes = {\n",
    "    \"rendez-vous\": \"175\",\n",
    "    \"midi\": \"a_vendre\",\n",
    "    \"demain\": \"oiseaux\",\n",
    "    \"villetaneuse\": \"au_marche\"\n",
    "}\n",
    "\n",
    "def get_code(key):\n",
    "    return codes[key]\n",
    "\n",
    "def get_key(search_value):\n",
    "    for key, value in codes.items():\n",
    "        if value == search_value:\n",
    "            return key\n",
    "    return None\n",
    "\n",
    "\n",
    "def chiffrement_repertoire(message):\n",
    "    return \" \".join(map(get_code, message.split(\" \")))\n",
    "\n",
    "\n",
    "def dechiffrement_repertoire(message):\n",
    "    return \" \".join(map(get_key, message.split(\" \")))\n",
    "\n",
    "\n",
    "# Exemple\n",
    "\n",
    "message_clair = \"rendez-vous demain midi villetaneuse\"\n",
    "\n",
    "message = chiffrement_repertoire(message_clair)\n",
    "\n",
    "\n",
    "print(\"Message clair :\", message_clair)\n",
    "print(\"Message chiffre:\", message)"
   ]
  },
  {
   "cell_type": "markdown",
   "metadata": {},
   "source": [
    "## Code de permutation ou de transposition"
   ]
  },
  {
   "cell_type": "code",
   "execution_count": 75,
   "metadata": {},
   "outputs": [
    {
     "name": "stdout",
     "output_type": "stream",
     "text": [
      "Message clair : rendez vous demain midi villetaneuse\n",
      "Message chiffre: r d vaeveminnomileduadluesiiesz n te\n"
     ]
    }
   ],
   "source": [
    "def chiffrement_permutation(message, n_case):\n",
    "    mat = [[None for _ in range(n_case)] for _ in range(n_case)]\n",
    "    index = 0\n",
    "    for i in range(n_case):\n",
    "        for j in range(n_case):\n",
    "            if index < len(message):\n",
    "                mat[i][j] = message[index]\n",
    "                index += 1\n",
    "    result = [[None for _ in range(n_case)] for _ in range(n_case)]\n",
    "\n",
    "    for i in range(n_case):\n",
    "            for j in range(n_case):\n",
    "                    result[j][i] = mat[i][j]\n",
    "                    index += 1\n",
    "\n",
    "    return  ''.join([element for row in result for element in row if element != None])\n",
    "\n",
    "# Exemple\n",
    "\n",
    "message_clair = \"rendez vous demain midi villetaneuse\"\n",
    "message = chiffrement_permutation(message_clair, 6)\n",
    "\n",
    "print(\"Message clair :\", message_clair)\n",
    "print(\"Message chiffre:\", message)"
   ]
  },
  {
   "cell_type": "markdown",
   "metadata": {},
   "source": [
    "## code cesar"
   ]
  },
  {
   "cell_type": "markdown",
   "metadata": {},
   "source": [
    "### Chiffrement"
   ]
  },
  {
   "cell_type": "code",
   "execution_count": 141,
   "metadata": {},
   "outputs": [
    {
     "name": "stdout",
     "output_type": "stream",
     "text": [
      "Message :  LA CURIOSTE EST UN VILAIN DEFAUT\n",
      "Message chiffre :  YN PHEVBFGR RFG HA IVYNVA QRSNHG\n"
     ]
    }
   ],
   "source": [
    "def chiffrement_cesar(message, key):\n",
    "    \n",
    "    message_chiffre = \"\"\n",
    "    for lettre in message:\n",
    "        if lettre.isupper():\n",
    "            lettre_chiffre = chr((ord(lettre) + key - ord(\"A\")) % 26 +  ord(\"A\"))\n",
    "        elif lettre.islower():\n",
    "            lettre_chiffre = chr((ord(lettre) + key - ord(\"a\")) % 26 +  ord(\"a\"))\n",
    "        else:\n",
    "            lettre_chiffre = lettre\n",
    "        message_chiffre += lettre_chiffre\n",
    "    return message_chiffre\n",
    "\n",
    "# Example \n",
    "message = \"LA CURIOSTE EST UN VILAIN DEFAUT\"\n",
    "key = 13\n",
    "message = chiffrement_cesar(message, key)\n",
    "\n",
    "print(\"Message : \", message)\n",
    "print(\"Message chiffre : \", message)"
   ]
  },
  {
   "cell_type": "markdown",
   "metadata": {},
   "source": [
    "### dechiffrement"
   ]
  },
  {
   "cell_type": "code",
   "execution_count": 142,
   "metadata": {},
   "outputs": [
    {
     "name": "stdout",
     "output_type": "stream",
     "text": [
      "Message chiffre :  YN PHEVBFGR RFG HA IVYNVA QRSNHG\n",
      "Message :  LA CURIOSTE EST UN VILAIN DEFAUT\n"
     ]
    }
   ],
   "source": [
    "def dechiffrement_cesar(message, key):\n",
    "    message_chiffre = \"\"\n",
    "    for lettre in message:\n",
    "        if lettre.isupper():\n",
    "            lettre_chiffre = chr((ord(lettre) - key - ord(\"A\")) % 26 +  ord(\"A\"))\n",
    "        elif lettre.islower():\n",
    "            lettre_chiffre = chr((ord(lettre) - key - ord(\"a\")) % 26 +  ord(\"a\"))\n",
    "        else:\n",
    "            lettre_chiffre = lettre\n",
    "        message_chiffre += lettre_chiffre\n",
    "    return message_chiffre\n",
    "\n",
    "# Example \n",
    "message = \"YN PHEVBFGR RFG HA IVYNVA QRSNHG\"\n",
    "key = 13\n",
    "message = dechiffrement_cesar(message, key)\n",
    "\n",
    "print(\"Message chiffre : \", message)\n",
    "print(\"Message : \", message)"
   ]
  },
  {
   "cell_type": "markdown",
   "metadata": {},
   "source": [
    "### Decodage par analyse de frequence"
   ]
  },
  {
   "cell_type": "markdown",
   "metadata": {},
   "source": [
    "### La lettre la plus frequente"
   ]
  },
  {
   "cell_type": "code",
   "execution_count": 124,
   "metadata": {},
   "outputs": [
    {
     "name": "stdout",
     "output_type": "stream",
     "text": [
      "La lettre la plus frequente : v : 14.29%\n",
      "Fréquences des lettres:\n",
      "v: 14.29%\n",
      "n: 10.71%\n",
      "h: 10.71%\n",
      "g: 10.71%\n",
      "r: 10.71%\n",
      "y: 7.14%\n",
      "f: 7.14%\n",
      "a: 7.14%\n",
      "p: 3.57%\n",
      "e: 3.57%\n",
      "b: 3.57%\n",
      "i: 3.57%\n",
      "q: 3.57%\n",
      "s: 3.57%\n"
     ]
    }
   ],
   "source": [
    "def lettre_plus_frequente(text):\n",
    "    letter_frequencies = {}\n",
    "    text = text.lower()\n",
    "    \n",
    "    for char in text:\n",
    "        if char != \" \":\n",
    "            if char.isalpha():\n",
    "                if char in letter_frequencies:\n",
    "                    letter_frequencies[char] += 1\n",
    "                else:\n",
    "                    letter_frequencies[char] = 1\n",
    "    \n",
    "    total_letters = sum(letter_frequencies.values())\n",
    "    \n",
    "    letter_frequencies = {letter: (count / total_letters * 100) for letter, count in letter_frequencies.items()}\n",
    "\n",
    "    sorted_frequencies = dict(sorted(letter_frequencies.items(), key=lambda item: item[1], reverse=True))\n",
    "\n",
    "    return next(iter(sorted_frequencies.items())), sorted_frequencies\n",
    "\n",
    "message = \"YN PHEVBFVGR RFG HA IVYNVA QRSNHG\"\n",
    "\n",
    "plus_frequente, frequences = lettre_plus_frequente(message)\n",
    "\n",
    "print(f\"La lettre la plus frequente : {plus_frequente[0]} : {plus_frequente[1]:.2f}%\")\n",
    "\n",
    "print(\"Fréquences des lettres:\")\n",
    "for letter, frequency in frequences.items():\n",
    "    print(f\"{letter}: {frequency:.2f}%\")"
   ]
  },
  {
   "cell_type": "markdown",
   "metadata": {},
   "source": [
    "### La fonction \"CryptAnalyse\""
   ]
  },
  {
   "cell_type": "code",
   "execution_count": 133,
   "metadata": {},
   "outputs": [
    {
     "name": "stdout",
     "output_type": "stream",
     "text": [
      "Key: 17\n"
     ]
    }
   ],
   "source": [
    "def cryptanalyse(text, frequent_letter, alphabet_count):\n",
    "    plus_frequente, _ = lettre_plus_frequente(text)\n",
    "    first_key, _ = plus_frequente\n",
    "\n",
    "    key = (ord(first_key) - ord(frequent_letter)) % alphabet_count\n",
    "    return key\n",
    "\n",
    "message = \"YN PHEVBFVGR RFG HA IVYNVA QRSNHG\"\n",
    "\n",
    "key = cryptanalyse(message, \"e\", 26)\n",
    "print(\"Key:\", key)"
   ]
  },
  {
   "cell_type": "markdown",
   "metadata": {},
   "source": [
    "### La fonction \"dechiffrer\""
   ]
  },
  {
   "cell_type": "code",
   "execution_count": 140,
   "metadata": {},
   "outputs": [
    {
     "name": "stdout",
     "output_type": "stream",
     "text": [
      "Message : YN PHEVBFVGR RFG HA IVYNVA QRSNHG\n",
      "message chiffre : LA CURIOSITE EST UN VILAIN DEFAUT\n"
     ]
    }
   ],
   "source": [
    "def dechiffrer(message_chiffre, key):\n",
    "    key = key % 26\n",
    "    message_chiffre = \"\"\n",
    "    for lettre in message:\n",
    "        if lettre.isupper():\n",
    "            lettre_chiffre = chr((ord(lettre) - key - ord(\"A\")) % 26 +  ord(\"A\"))\n",
    "        elif lettre.islower():\n",
    "            lettre_chiffre = chr((ord(lettre) - key - ord(\"a\")) % 26 +  ord(\"a\"))\n",
    "        else:\n",
    "            lettre_chiffre = lettre\n",
    "        message_chiffre += lettre_chiffre\n",
    "    return message_chiffre\n",
    "        \n",
    "message = \"YN PHEVBFVGR RFG HA IVYNVA QRSNHG\"\n",
    "key = cryptanalyse(message, \"e\", 26)\n",
    "key = 13\n",
    "message = dechiffrer(message, key)\n",
    "print(\"Message :\", message)\n",
    "print(\"message chiffre :\", message)"
   ]
  },
  {
   "cell_type": "markdown",
   "metadata": {},
   "source": [
    "## Chiffrement Affine"
   ]
  },
  {
   "cell_type": "code",
   "execution_count": 245,
   "metadata": {},
   "outputs": [
    {
     "name": "stdout",
     "output_type": "stream",
     "text": [
      "Message clair : Radouane\n",
      "Message chiffre: Jcruycpw\n"
     ]
    }
   ],
   "source": [
    "import math\n",
    "def chiffrement_affine(text : str, key, alphabet_count):\n",
    "\n",
    "    if math.gcd(key[\"a\"], alphabet_count) != 1:\n",
    "        print(\"La clé n'est pas valide car a et n ne sont pas premiers entre eux\")\n",
    "        return None\n",
    "\n",
    "    message_chiffre = \"\"\n",
    "\n",
    "    for lettre in text:\n",
    "        if lettre.isupper():\n",
    "            temp = ((key[\"a\"] * (ord(lettre) - ord(\"A\")) + key[\"b\"]) % alphabet_count) + ord(\"A\")\n",
    "            lettre_chiffre = chr(temp)\n",
    "\n",
    "        elif lettre.islower():\n",
    "            temp = ((key[\"a\"] * (ord(lettre) - ord(\"a\")) + key[\"b\"]) % alphabet_count) + ord(\"a\")\n",
    "            lettre_chiffre = chr(temp)\n",
    "        else:\n",
    "            lettre_chiffre = lettre\n",
    "        message_chiffre += lettre_chiffre                \n",
    "\n",
    "    return message_chiffre\n",
    "\n",
    "\n",
    "# Exemple\n",
    "\n",
    "message_clair = \"Radouane\"\n",
    "key = {\"a\": 5, \"b\": 2}\n",
    "message_chiffre = chiffrement_affine(message_clair, key, 26)\n",
    "print(\"Message clair :\", message_clair)\n",
    "print(\"Message chiffre:\", message_chiffre)"
   ]
  },
  {
   "cell_type": "markdown",
   "metadata": {},
   "source": [
    "### Decheffrement Affine"
   ]
  },
  {
   "cell_type": "code",
   "execution_count": 246,
   "metadata": {},
   "outputs": [
    {
     "name": "stdout",
     "output_type": "stream",
     "text": [
      "Message chiffre: Jcruycpw\n",
      "Message clair : Radouane\n"
     ]
    }
   ],
   "source": [
    "def inverse_modulaire(a, alphabet_count):\n",
    "    for i in range(1, alphabet_count):\n",
    "        if i * a % alphabet_count == 1:\n",
    "            return i\n",
    "        \n",
    "    return None\n",
    "\n",
    "\n",
    "def decheffrement_affine(text_chiffrer : str, key, alphabet_count):\n",
    "\n",
    "    if math.gcd(key[\"a\"], alphabet_count) != 1:\n",
    "        print(\"La clé n'est pas valide car a et n ne sont pas premiers entre eux\")\n",
    "        return None\n",
    "\n",
    "    inverce = inverse_modulaire(key[\"a\"], alphabet_count)\n",
    "    message = \"\"\n",
    "    \n",
    "\n",
    "    for lettre_chiffre in text_chiffrer:\n",
    "        if lettre_chiffre.isupper():\n",
    "            temp = (inverce * (ord(lettre_chiffre) - ord(\"A\") - key[\"b\"]) % alphabet_count) + ord(\"A\")\n",
    "            lettre = chr(temp)\n",
    "\n",
    "        elif lettre_chiffre.islower():\n",
    "            temp = (inverce * (ord(lettre_chiffre) - ord(\"a\") - key[\"b\"]) % alphabet_count) + ord(\"a\")\n",
    "            lettre = chr(temp)\n",
    "        else:\n",
    "            lettre = lettre_chiffre\n",
    "        message += lettre             \n",
    "\n",
    "    return message\n",
    "\n",
    "# Exemple\n",
    "\n",
    "message_chiffre = \"Jcruycpw\"\n",
    "key = {\"a\": 5, \"b\": 2}\n",
    "message = decheffrement_affine(message_chiffre, key, 26)\n",
    "print(\"Message chiffre:\", message_chiffre)\n",
    "print(\"Message clair :\", message)"
   ]
  },
  {
   "cell_type": "markdown",
   "metadata": {},
   "source": [
    "## Chiffrement de Vigenère"
   ]
  },
  {
   "cell_type": "code",
   "execution_count": 284,
   "metadata": {},
   "outputs": [
    {
     "name": "stdout",
     "output_type": "stream",
     "text": [
      "Message clair : Radouane\n",
      "Message chiffre: Tlhqfepp\n"
     ]
    }
   ],
   "source": [
    "def chiffrement_vigenere(text, key, alphabet_count):\n",
    "    key_length = len(key)\n",
    "    key = key.lower()\n",
    "\n",
    "\n",
    "    message_chiffre = \"\"\n",
    "    index = 0\n",
    "\n",
    "    for lettre in text:\n",
    "        if lettre.isupper():\n",
    "            temp = ((ord(lettre) - ord('A') + (ord(key[index % key_length]) -  ord('a'))) % alphabet_count) + ord('A') \n",
    "            lettre_chiffre = chr(temp)\n",
    "            index += 1\n",
    "\n",
    "        elif lettre.islower():\n",
    "            temp = ((ord(lettre) - ord('a') + (ord(key[index % key_length]) -  ord('a'))) % alphabet_count) + ord('a') \n",
    "            lettre_chiffre = chr(temp)\n",
    "            index += 1\n",
    "        else:\n",
    "            lettre_chiffre = lettre\n",
    "            index += 1\n",
    "        message_chiffre += lettre_chiffre                \n",
    "\n",
    "    return message_chiffre\n",
    "\n",
    "\n",
    "# Exemple\n",
    "\n",
    "message_clair = \"Radouane\"\n",
    "key = \"cle\"\n",
    "message_chiffre = chiffrement_vigenere(message_clair, key, 26)\n",
    "print(\"Message clair :\", message_clair)\n",
    "print(\"Message chiffre:\", message_chiffre)"
   ]
  },
  {
   "cell_type": "markdown",
   "metadata": {},
   "source": [
    "## Dechiffrement de Vigenère"
   ]
  },
  {
   "cell_type": "code",
   "execution_count": 287,
   "metadata": {},
   "outputs": [
    {
     "name": "stdout",
     "output_type": "stream",
     "text": [
      "Message chiffre: Tlhqfepp\n",
      "Message clair : Radouane\n"
     ]
    }
   ],
   "source": [
    "def dechiffrement_vigenere(message_chiffre, key, alphabet_count):\n",
    "    key_length = len(key)\n",
    "    key = key.lower()\n",
    "\n",
    "\n",
    "    message = \"\"\n",
    "    index = 0\n",
    "\n",
    "    for lettre_chiffre in message_chiffre:\n",
    "        if lettre_chiffre.isupper():\n",
    "            temp = ((ord(lettre_chiffre) - ord('A') - (ord(key[index % key_length]) -  ord('a'))) % alphabet_count) + ord('A') \n",
    "            lettre = chr(temp)\n",
    "            index += 1\n",
    "\n",
    "        elif lettre_chiffre.islower():\n",
    "            temp = ((ord(lettre_chiffre) - ord('a') - (ord(key[index % key_length]) -  ord('a'))) % alphabet_count) + ord('a') \n",
    "            lettre = chr(temp)\n",
    "            index += 1\n",
    "        else:\n",
    "            lettre = lettre_chiffre\n",
    "            index += 1\n",
    "        message += lettre                \n",
    "\n",
    "    return message\n",
    "\n",
    "\n",
    "# Exemple\n",
    "\n",
    "message_chiffre = \"Tlhqfepp\"\n",
    "key = \"cle\"\n",
    "message = dechiffrement_vigenere(message_chiffre, key, 26)\n",
    "print(\"Message chiffre:\", message_chiffre)\n",
    "print(\"Message clair :\", message)"
   ]
  },
  {
   "cell_type": "markdown",
   "metadata": {},
   "source": [
    "## Chiffrement de Hill"
   ]
  },
  {
   "cell_type": "code",
   "execution_count": 299,
   "metadata": {},
   "outputs": [
    {
     "name": "stdout",
     "output_type": "stream",
     "text": [
      "Encrypted Text: UMZRGY\n"
     ]
    }
   ],
   "source": []
  },
  {
   "cell_type": "markdown",
   "metadata": {},
   "source": [
    "## Dechiffrement de Hill"
   ]
  },
  {
   "cell_type": "code",
   "execution_count": 300,
   "metadata": {},
   "outputs": [
    {
     "ename": "ValueError",
     "evalue": "cannot reshape array of size 5 into shape (2)",
     "output_type": "error",
     "traceback": [
      "\u001b[0;31m---------------------------------------------------------------------------\u001b[0m",
      "\u001b[0;31mValueError\u001b[0m                                Traceback (most recent call last)",
      "\u001b[1;32m/home/radouane/PycharmProjects/cryptoanalyse/x.ipynb Cell 32\u001b[0m line \u001b[0;36m2\n\u001b[1;32m     <a href='vscode-notebook-cell:/home/radouane/PycharmProjects/cryptoanalyse/x.ipynb#X66sZmlsZQ%3D%3D?line=25'>26</a>\u001b[0m key_matrix \u001b[39m=\u001b[39m np\u001b[39m.\u001b[39marray([[\u001b[39m6\u001b[39m, \u001b[39m24\u001b[39m], [\u001b[39m1\u001b[39m, \u001b[39m13\u001b[39m]])  \u001b[39m# Example 2x2 key matrix\u001b[39;00m\n\u001b[1;32m     <a href='vscode-notebook-cell:/home/radouane/PycharmProjects/cryptoanalyse/x.ipynb#X66sZmlsZQ%3D%3D?line=26'>27</a>\u001b[0m alphabet \u001b[39m=\u001b[39m \u001b[39m\"\u001b[39m\u001b[39mABCDEFGHIJKLMNOPQRSTUVWXYZ\u001b[39m\u001b[39m\"\u001b[39m\n\u001b[0;32m---> <a href='vscode-notebook-cell:/home/radouane/PycharmProjects/cryptoanalyse/x.ipynb#X66sZmlsZQ%3D%3D?line=27'>28</a>\u001b[0m decrypted_text \u001b[39m=\u001b[39m hill_decrypt(encrypted_text, key_matrix, alphabet)\n\u001b[1;32m     <a href='vscode-notebook-cell:/home/radouane/PycharmProjects/cryptoanalyse/x.ipynb#X66sZmlsZQ%3D%3D?line=28'>29</a>\u001b[0m \u001b[39mprint\u001b[39m(\u001b[39m\"\u001b[39m\u001b[39mDecrypted Text:\u001b[39m\u001b[39m\"\u001b[39m, decrypted_text)\n",
      "\u001b[1;32m/home/radouane/PycharmProjects/cryptoanalyse/x.ipynb Cell 32\u001b[0m line \u001b[0;36m9\n\u001b[1;32m      <a href='vscode-notebook-cell:/home/radouane/PycharmProjects/cryptoanalyse/x.ipynb#X66sZmlsZQ%3D%3D?line=5'>6</a>\u001b[0m encrypted_text_numbers \u001b[39m=\u001b[39m [alphabet_dict[char] \u001b[39mfor\u001b[39;00m char \u001b[39min\u001b[39;00m encrypted_text]\n\u001b[1;32m      <a href='vscode-notebook-cell:/home/radouane/PycharmProjects/cryptoanalyse/x.ipynb#X66sZmlsZQ%3D%3D?line=7'>8</a>\u001b[0m \u001b[39m# Reshape the encrypted text numbers into a matrix\u001b[39;00m\n\u001b[0;32m----> <a href='vscode-notebook-cell:/home/radouane/PycharmProjects/cryptoanalyse/x.ipynb#X66sZmlsZQ%3D%3D?line=8'>9</a>\u001b[0m encrypted_matrix \u001b[39m=\u001b[39m np\u001b[39m.\u001b[39;49marray(encrypted_text_numbers)\u001b[39m.\u001b[39;49mreshape(\u001b[39m-\u001b[39;49m\u001b[39m1\u001b[39;49m, key_matrix\u001b[39m.\u001b[39;49mshape[\u001b[39m0\u001b[39;49m])\n\u001b[1;32m     <a href='vscode-notebook-cell:/home/radouane/PycharmProjects/cryptoanalyse/x.ipynb#X66sZmlsZQ%3D%3D?line=10'>11</a>\u001b[0m \u001b[39m# Calculate the inverse of the key matrix\u001b[39;00m\n\u001b[1;32m     <a href='vscode-notebook-cell:/home/radouane/PycharmProjects/cryptoanalyse/x.ipynb#X66sZmlsZQ%3D%3D?line=11'>12</a>\u001b[0m key_matrix_inverse \u001b[39m=\u001b[39m np\u001b[39m.\u001b[39mlinalg\u001b[39m.\u001b[39minv(key_matrix) \u001b[39m%\u001b[39m \u001b[39mlen\u001b[39m(alphabet)\n",
      "\u001b[0;31mValueError\u001b[0m: cannot reshape array of size 5 into shape (2)"
     ]
    }
   ],
   "source": []
  },
  {
   "cell_type": "markdown",
   "metadata": {},
   "source": [
    "## Chiffrement de Diffie-Hellman"
   ]
  },
  {
   "cell_type": "code",
   "execution_count": 294,
   "metadata": {},
   "outputs": [
    {
     "name": "stdout",
     "output_type": "stream",
     "text": [
      "La clé publique d'Alice: 11\n",
      "La clé publique de Bob: 13\n",
      "La clé partagée d'Alice: 4\n",
      "La clé partagée de Bob: 4\n"
     ]
    }
   ],
   "source": [
    "def get_public_key(private_key, g, p):\n",
    "    if math.gcd(g, p) != 1:\n",
    "        raise ValueError(\"PGCD(g, p) != 1\")\n",
    "    return g**private_key % p\n",
    "\n",
    "def get_shared_key(private_key, public_key, p):\n",
    "    return public_key**private_key % p\n",
    "\n",
    "\n",
    "alice_private_key = 7\n",
    "bob_private_key = 4\n",
    "\n",
    "g = 3\n",
    "p = 17\n",
    "\n",
    "alice_public_key = get_public_key(alice_private_key, g, p)\n",
    "bob_public_key = get_public_key(bob_private_key, g, p)\n",
    "\n",
    "alice_shared_key = get_shared_key(alice_private_key, bob_public_key, p)\n",
    "bob_shared_key = get_shared_key(bob_private_key, alice_public_key, p)\n",
    "\n",
    "print(\"La clé publique d'Alice:\", alice_public_key)\n",
    "print(\"La clé publique de Bob:\", bob_public_key)\n",
    "print(\"La clé partagée d'Alice:\", alice_shared_key)\n",
    "print(\"La clé partagée de Bob:\", bob_shared_key)"
   ]
  },
  {
   "cell_type": "markdown",
   "metadata": {},
   "source": [
    "## TD 2 - Exercice 1"
   ]
  },
  {
   "cell_type": "markdown",
   "metadata": {},
   "source": [
    "### Nombre premier"
   ]
  },
  {
   "cell_type": "code",
   "execution_count": 296,
   "metadata": {},
   "outputs": [
    {
     "name": "stdout",
     "output_type": "stream",
     "text": [
      "Est-ce que 17 est un nombre premier? True\n",
      "Est-ce que 18 est un nombre premier? False\n"
     ]
    }
   ],
   "source": [
    "import math\n",
    "def premier(n):\n",
    "    if n == 1:\n",
    "        return False\n",
    "    for i in range(2, math.floor(math.sqrt(n))+1):\n",
    "        if n % i == 0:\n",
    "            return False\n",
    "    return True\n",
    "\n",
    "# Exemple\n",
    "print(\"Est-ce que 17 est un nombre premier?\", premier(17))\n",
    "print(\"Est-ce que 18 est un nombre premier?\", premier(18))"
   ]
  },
  {
   "cell_type": "markdown",
   "metadata": {},
   "source": [
    "### Factorisation"
   ]
  },
  {
   "cell_type": "code",
   "execution_count": 298,
   "metadata": {},
   "outputs": [
    {
     "name": "stdout",
     "output_type": "stream",
     "text": [
      "Factorisation de 14803: (113, 131)\n"
     ]
    }
   ],
   "source": [
    "def factorisation(n):\n",
    "    for i in range(2, math.floor(math.sqrt(n))+1):\n",
    "        if n % i == 0 and premier(i) and premier(n // i):\n",
    "            return i, n // i \n",
    "    return None\n",
    "\n",
    "# Exemple\n",
    "print(\"Factorisation de 14803:\", factorisation(14803))"
   ]
  }
 ],
 "metadata": {
  "kernelspec": {
   "display_name": "Python 3",
   "language": "python",
   "name": "python3"
  },
  "language_info": {
   "codemirror_mode": {
    "name": "ipython",
    "version": 3
   },
   "file_extension": ".py",
   "mimetype": "text/x-python",
   "name": "python",
   "nbconvert_exporter": "python",
   "pygments_lexer": "ipython3",
   "version": "3.10.12"
  }
 },
 "nbformat": 4,
 "nbformat_minor": 2
}
